{
 "cells": [
  {
   "cell_type": "code",
   "execution_count": 1,
   "metadata": {
    "slideshow": {
     "slide_type": "slide"
    }
   },
   "outputs": [],
   "source": [
    "# SQLAlchemy, Sqlite, and Dates"
   ]
  },
  {
   "cell_type": "markdown",
   "metadata": {
    "slideshow": {
     "slide_type": "slide"
    }
   },
   "source": [
    "## Setup"
   ]
  },
  {
   "cell_type": "code",
   "execution_count": 2,
   "metadata": {
    "slideshow": {
     "slide_type": "subslide"
    }
   },
   "outputs": [],
   "source": [
    "# Python SQL toolkit and Object Relational Mapper\n",
    "import sqlalchemy\n",
    "from sqlalchemy.ext.automap import automap_base\n",
    "from sqlalchemy.orm import Session\n",
    "from sqlalchemy import create_engine, inspect, func"
   ]
  },
  {
   "cell_type": "code",
   "execution_count": 3,
   "metadata": {
    "slideshow": {
     "slide_type": "subslide"
    }
   },
   "outputs": [],
   "source": [
    "engine = create_engine(\"sqlite:///../Resources/dow.sqlite\", echo=False)"
   ]
  },
  {
   "cell_type": "markdown",
   "metadata": {
    "slideshow": {
     "slide_type": "slide"
    }
   },
   "source": [
    "## Explore Database"
   ]
  },
  {
   "cell_type": "code",
   "execution_count": 4,
   "metadata": {
    "slideshow": {
     "slide_type": "subslide"
    }
   },
   "outputs": [
    {
     "data": {
      "text/plain": [
       "['dow']"
      ]
     },
     "execution_count": 4,
     "metadata": {},
     "output_type": "execute_result"
    }
   ],
   "source": [
    "inspector = inspect(engine)\n",
    "inspector.get_table_names()"
   ]
  },
  {
   "cell_type": "code",
   "execution_count": 5,
   "metadata": {
    "slideshow": {
     "slide_type": "subslide"
    }
   },
   "outputs": [
    {
     "name": "stdout",
     "output_type": "stream",
     "text": [
      "id INTEGER\n",
      "quarter INTEGER\n",
      "stock TEXT\n",
      "date TEXT\n",
      "open_price FLOAT\n",
      "high_price FLOAT\n",
      "low_price FLOAT\n",
      "close_price FLOAT\n",
      "volume INTEGER\n",
      "percent_change FLOAT\n"
     ]
    }
   ],
   "source": [
    "# Get a list of column names and types\n",
    "columns = inspector.get_columns('dow')\n",
    "for c in columns:\n",
    "    print(c['name'], c[\"type\"])\n",
    "# columns"
   ]
  },
  {
   "cell_type": "code",
   "execution_count": 6,
   "metadata": {
    "slideshow": {
     "slide_type": "subslide"
    }
   },
   "outputs": [
    {
     "data": {
      "text/plain": [
       "[(1, 1, 'AA', '2011-01-07', 15.82, 16.72, 15.78, 16.42, 239655616, None),\n",
       " (2, 1, 'AA', '2011-01-14', 16.71, 16.71, 15.64, 15.97, 242963398, None),\n",
       " (3, 1, 'AA', '2011-01-21', 16.19, 16.38, 15.6, 15.79, 138428495, None),\n",
       " (4, 1, 'AA', '2011-01-28', 15.87, 16.63, 15.82, 16.13, 151379173, None),\n",
       " (5, 1, 'AA', '2011-02-04', 16.18, 17.39, 16.18, 17.14, 154387761, None)]"
      ]
     },
     "execution_count": 6,
     "metadata": {},
     "output_type": "execute_result"
    }
   ],
   "source": [
    "engine.execute('SELECT * FROM dow LIMIT 5').fetchall()"
   ]
  },
  {
   "cell_type": "markdown",
   "metadata": {
    "slideshow": {
     "slide_type": "slide"
    }
   },
   "source": [
    "## Reflect and query dates"
   ]
  },
  {
   "cell_type": "code",
   "execution_count": 7,
   "metadata": {
    "slideshow": {
     "slide_type": "subslide"
    }
   },
   "outputs": [],
   "source": [
    "# Reflect Database into ORM class\n",
    "Base = automap_base()\n",
    "Base.prepare(engine, reflect=True)\n",
    "Dow = Base.classes.dow"
   ]
  },
  {
   "cell_type": "code",
   "execution_count": 8,
   "metadata": {
    "slideshow": {
     "slide_type": "fragment"
    }
   },
   "outputs": [],
   "source": [
    "session = Session(engine)"
   ]
  },
  {
   "cell_type": "markdown",
   "metadata": {
    "slideshow": {
     "slide_type": "subslide"
    }
   },
   "source": [
    "How many dates do we have?"
   ]
  },
  {
   "cell_type": "code",
   "execution_count": 9,
   "metadata": {
    "slideshow": {
     "slide_type": "fragment"
    }
   },
   "outputs": [
    {
     "data": {
      "text/plain": [
       "[(750)]"
      ]
     },
     "execution_count": 9,
     "metadata": {},
     "output_type": "execute_result"
    }
   ],
   "source": [
    "# Total dates\n",
    "session.query(func.count(Dow.date)).all()"
   ]
  },
  {
   "cell_type": "markdown",
   "metadata": {
    "slideshow": {
     "slide_type": "subslide"
    }
   },
   "source": [
    "What is the earliest date?"
   ]
  },
  {
   "cell_type": "code",
   "execution_count": 10,
   "metadata": {
    "slideshow": {
     "slide_type": "fragment"
    }
   },
   "outputs": [
    {
     "data": {
      "text/plain": [
       "('2011-01-07')"
      ]
     },
     "execution_count": 10,
     "metadata": {},
     "output_type": "execute_result"
    }
   ],
   "source": [
    "# Earliest Date\n",
    "session.query(Dow.date).order_by(Dow.date).first()"
   ]
  },
  {
   "cell_type": "markdown",
   "metadata": {
    "slideshow": {
     "slide_type": "subslide"
    }
   },
   "source": [
    "What is the latest date?"
   ]
  },
  {
   "cell_type": "code",
   "execution_count": 11,
   "metadata": {
    "slideshow": {
     "slide_type": "fragment"
    }
   },
   "outputs": [
    {
     "data": {
      "text/plain": [
       "('2011-06-24')"
      ]
     },
     "execution_count": 11,
     "metadata": {},
     "output_type": "execute_result"
    }
   ],
   "source": [
    "# Latest Date\n",
    "session.query(Dow.date).order_by(Dow.date.desc()).first()"
   ]
  },
  {
   "cell_type": "markdown",
   "metadata": {
    "slideshow": {
     "slide_type": "subslide"
    }
   },
   "source": [
    "Find all of the dates great than `2011-03-01`"
   ]
  },
  {
   "cell_type": "code",
   "execution_count": 12,
   "metadata": {
    "slideshow": {
     "slide_type": "fragment"
    }
   },
   "outputs": [
    {
     "data": {
      "text/plain": [
       "[('2011-03-04'),\n",
       " ('2011-03-04'),\n",
       " ('2011-03-04'),\n",
       " ('2011-03-04'),\n",
       " ('2011-03-04'),\n",
       " ('2011-03-04'),\n",
       " ('2011-03-04'),\n",
       " ('2011-03-04'),\n",
       " ('2011-03-04'),\n",
       " ('2011-03-04'),\n",
       " ('2011-03-04'),\n",
       " ('2011-03-04'),\n",
       " ('2011-03-04'),\n",
       " ('2011-03-04'),\n",
       " ('2011-03-04'),\n",
       " ('2011-03-04'),\n",
       " ('2011-03-04'),\n",
       " ('2011-03-04'),\n",
       " ('2011-03-04'),\n",
       " ('2011-03-04'),\n",
       " ('2011-03-04'),\n",
       " ('2011-03-04'),\n",
       " ('2011-03-04'),\n",
       " ('2011-03-04'),\n",
       " ('2011-03-04'),\n",
       " ('2011-03-04'),\n",
       " ('2011-03-04'),\n",
       " ('2011-03-04'),\n",
       " ('2011-03-04'),\n",
       " ('2011-03-04'),\n",
       " ('2011-03-11'),\n",
       " ('2011-03-11'),\n",
       " ('2011-03-11'),\n",
       " ('2011-03-11'),\n",
       " ('2011-03-11'),\n",
       " ('2011-03-11'),\n",
       " ('2011-03-11'),\n",
       " ('2011-03-11'),\n",
       " ('2011-03-11'),\n",
       " ('2011-03-11'),\n",
       " ('2011-03-11'),\n",
       " ('2011-03-11'),\n",
       " ('2011-03-11'),\n",
       " ('2011-03-11'),\n",
       " ('2011-03-11'),\n",
       " ('2011-03-11'),\n",
       " ('2011-03-11'),\n",
       " ('2011-03-11'),\n",
       " ('2011-03-11'),\n",
       " ('2011-03-11'),\n",
       " ('2011-03-11'),\n",
       " ('2011-03-11'),\n",
       " ('2011-03-11'),\n",
       " ('2011-03-11'),\n",
       " ('2011-03-11'),\n",
       " ('2011-03-11'),\n",
       " ('2011-03-11'),\n",
       " ('2011-03-11'),\n",
       " ('2011-03-11'),\n",
       " ('2011-03-11'),\n",
       " ('2011-03-18'),\n",
       " ('2011-03-18'),\n",
       " ('2011-03-18'),\n",
       " ('2011-03-18'),\n",
       " ('2011-03-18'),\n",
       " ('2011-03-18'),\n",
       " ('2011-03-18'),\n",
       " ('2011-03-18'),\n",
       " ('2011-03-18'),\n",
       " ('2011-03-18'),\n",
       " ('2011-03-18'),\n",
       " ('2011-03-18'),\n",
       " ('2011-03-18'),\n",
       " ('2011-03-18'),\n",
       " ('2011-03-18'),\n",
       " ('2011-03-18'),\n",
       " ('2011-03-18'),\n",
       " ('2011-03-18'),\n",
       " ('2011-03-18'),\n",
       " ('2011-03-18'),\n",
       " ('2011-03-18'),\n",
       " ('2011-03-18'),\n",
       " ('2011-03-18'),\n",
       " ('2011-03-18'),\n",
       " ('2011-03-18'),\n",
       " ('2011-03-18'),\n",
       " ('2011-03-18'),\n",
       " ('2011-03-18'),\n",
       " ('2011-03-18'),\n",
       " ('2011-03-18'),\n",
       " ('2011-03-25'),\n",
       " ('2011-03-25'),\n",
       " ('2011-03-25'),\n",
       " ('2011-03-25'),\n",
       " ('2011-03-25'),\n",
       " ('2011-03-25'),\n",
       " ('2011-03-25'),\n",
       " ('2011-03-25'),\n",
       " ('2011-03-25'),\n",
       " ('2011-03-25'),\n",
       " ('2011-03-25'),\n",
       " ('2011-03-25'),\n",
       " ('2011-03-25'),\n",
       " ('2011-03-25'),\n",
       " ('2011-03-25'),\n",
       " ('2011-03-25'),\n",
       " ('2011-03-25'),\n",
       " ('2011-03-25'),\n",
       " ('2011-03-25'),\n",
       " ('2011-03-25'),\n",
       " ('2011-03-25'),\n",
       " ('2011-03-25'),\n",
       " ('2011-03-25'),\n",
       " ('2011-03-25'),\n",
       " ('2011-03-25'),\n",
       " ('2011-03-25'),\n",
       " ('2011-03-25'),\n",
       " ('2011-03-25'),\n",
       " ('2011-03-25'),\n",
       " ('2011-03-25'),\n",
       " ('2011-04-01'),\n",
       " ('2011-04-01'),\n",
       " ('2011-04-01'),\n",
       " ('2011-04-01'),\n",
       " ('2011-04-01'),\n",
       " ('2011-04-01'),\n",
       " ('2011-04-01'),\n",
       " ('2011-04-01'),\n",
       " ('2011-04-01'),\n",
       " ('2011-04-01'),\n",
       " ('2011-04-01'),\n",
       " ('2011-04-01'),\n",
       " ('2011-04-01'),\n",
       " ('2011-04-01'),\n",
       " ('2011-04-01'),\n",
       " ('2011-04-01'),\n",
       " ('2011-04-01'),\n",
       " ('2011-04-01'),\n",
       " ('2011-04-01'),\n",
       " ('2011-04-01'),\n",
       " ('2011-04-01'),\n",
       " ('2011-04-01'),\n",
       " ('2011-04-01'),\n",
       " ('2011-04-01'),\n",
       " ('2011-04-01'),\n",
       " ('2011-04-01'),\n",
       " ('2011-04-01'),\n",
       " ('2011-04-01'),\n",
       " ('2011-04-01'),\n",
       " ('2011-04-01'),\n",
       " ('2011-04-08'),\n",
       " ('2011-04-08'),\n",
       " ('2011-04-08'),\n",
       " ('2011-04-08'),\n",
       " ('2011-04-08'),\n",
       " ('2011-04-08'),\n",
       " ('2011-04-08'),\n",
       " ('2011-04-08'),\n",
       " ('2011-04-08'),\n",
       " ('2011-04-08'),\n",
       " ('2011-04-08'),\n",
       " ('2011-04-08'),\n",
       " ('2011-04-08'),\n",
       " ('2011-04-08'),\n",
       " ('2011-04-08'),\n",
       " ('2011-04-08'),\n",
       " ('2011-04-08'),\n",
       " ('2011-04-08'),\n",
       " ('2011-04-08'),\n",
       " ('2011-04-08'),\n",
       " ('2011-04-08'),\n",
       " ('2011-04-08'),\n",
       " ('2011-04-08'),\n",
       " ('2011-04-08'),\n",
       " ('2011-04-08'),\n",
       " ('2011-04-08'),\n",
       " ('2011-04-08'),\n",
       " ('2011-04-08'),\n",
       " ('2011-04-08'),\n",
       " ('2011-04-08'),\n",
       " ('2011-04-15'),\n",
       " ('2011-04-15'),\n",
       " ('2011-04-15'),\n",
       " ('2011-04-15'),\n",
       " ('2011-04-15'),\n",
       " ('2011-04-15'),\n",
       " ('2011-04-15'),\n",
       " ('2011-04-15'),\n",
       " ('2011-04-15'),\n",
       " ('2011-04-15'),\n",
       " ('2011-04-15'),\n",
       " ('2011-04-15'),\n",
       " ('2011-04-15'),\n",
       " ('2011-04-15'),\n",
       " ('2011-04-15'),\n",
       " ('2011-04-15'),\n",
       " ('2011-04-15'),\n",
       " ('2011-04-15'),\n",
       " ('2011-04-15'),\n",
       " ('2011-04-15'),\n",
       " ('2011-04-15'),\n",
       " ('2011-04-15'),\n",
       " ('2011-04-15'),\n",
       " ('2011-04-15'),\n",
       " ('2011-04-15'),\n",
       " ('2011-04-15'),\n",
       " ('2011-04-15'),\n",
       " ('2011-04-15'),\n",
       " ('2011-04-15'),\n",
       " ('2011-04-15'),\n",
       " ('2011-04-21'),\n",
       " ('2011-04-21'),\n",
       " ('2011-04-21'),\n",
       " ('2011-04-21'),\n",
       " ('2011-04-21'),\n",
       " ('2011-04-21'),\n",
       " ('2011-04-21'),\n",
       " ('2011-04-21'),\n",
       " ('2011-04-21'),\n",
       " ('2011-04-21'),\n",
       " ('2011-04-21'),\n",
       " ('2011-04-21'),\n",
       " ('2011-04-21'),\n",
       " ('2011-04-21'),\n",
       " ('2011-04-21'),\n",
       " ('2011-04-21'),\n",
       " ('2011-04-21'),\n",
       " ('2011-04-21'),\n",
       " ('2011-04-21'),\n",
       " ('2011-04-21'),\n",
       " ('2011-04-21'),\n",
       " ('2011-04-21'),\n",
       " ('2011-04-21'),\n",
       " ('2011-04-21'),\n",
       " ('2011-04-21'),\n",
       " ('2011-04-21'),\n",
       " ('2011-04-21'),\n",
       " ('2011-04-21'),\n",
       " ('2011-04-21'),\n",
       " ('2011-04-21'),\n",
       " ('2011-04-29'),\n",
       " ('2011-04-29'),\n",
       " ('2011-04-29'),\n",
       " ('2011-04-29'),\n",
       " ('2011-04-29'),\n",
       " ('2011-04-29'),\n",
       " ('2011-04-29'),\n",
       " ('2011-04-29'),\n",
       " ('2011-04-29'),\n",
       " ('2011-04-29'),\n",
       " ('2011-04-29'),\n",
       " ('2011-04-29'),\n",
       " ('2011-04-29'),\n",
       " ('2011-04-29'),\n",
       " ('2011-04-29'),\n",
       " ('2011-04-29'),\n",
       " ('2011-04-29'),\n",
       " ('2011-04-29'),\n",
       " ('2011-04-29'),\n",
       " ('2011-04-29'),\n",
       " ('2011-04-29'),\n",
       " ('2011-04-29'),\n",
       " ('2011-04-29'),\n",
       " ('2011-04-29'),\n",
       " ('2011-04-29'),\n",
       " ('2011-04-29'),\n",
       " ('2011-04-29'),\n",
       " ('2011-04-29'),\n",
       " ('2011-04-29'),\n",
       " ('2011-04-29'),\n",
       " ('2011-05-06'),\n",
       " ('2011-05-06'),\n",
       " ('2011-05-06'),\n",
       " ('2011-05-06'),\n",
       " ('2011-05-06'),\n",
       " ('2011-05-06'),\n",
       " ('2011-05-06'),\n",
       " ('2011-05-06'),\n",
       " ('2011-05-06'),\n",
       " ('2011-05-06'),\n",
       " ('2011-05-06'),\n",
       " ('2011-05-06'),\n",
       " ('2011-05-06'),\n",
       " ('2011-05-06'),\n",
       " ('2011-05-06'),\n",
       " ('2011-05-06'),\n",
       " ('2011-05-06'),\n",
       " ('2011-05-06'),\n",
       " ('2011-05-06'),\n",
       " ('2011-05-06'),\n",
       " ('2011-05-06'),\n",
       " ('2011-05-06'),\n",
       " ('2011-05-06'),\n",
       " ('2011-05-06'),\n",
       " ('2011-05-06'),\n",
       " ('2011-05-06'),\n",
       " ('2011-05-06'),\n",
       " ('2011-05-06'),\n",
       " ('2011-05-06'),\n",
       " ('2011-05-06'),\n",
       " ('2011-05-13'),\n",
       " ('2011-05-13'),\n",
       " ('2011-05-13'),\n",
       " ('2011-05-13'),\n",
       " ('2011-05-13'),\n",
       " ('2011-05-13'),\n",
       " ('2011-05-13'),\n",
       " ('2011-05-13'),\n",
       " ('2011-05-13'),\n",
       " ('2011-05-13'),\n",
       " ('2011-05-13'),\n",
       " ('2011-05-13'),\n",
       " ('2011-05-13'),\n",
       " ('2011-05-13'),\n",
       " ('2011-05-13'),\n",
       " ('2011-05-13'),\n",
       " ('2011-05-13'),\n",
       " ('2011-05-13'),\n",
       " ('2011-05-13'),\n",
       " ('2011-05-13'),\n",
       " ('2011-05-13'),\n",
       " ('2011-05-13'),\n",
       " ('2011-05-13'),\n",
       " ('2011-05-13'),\n",
       " ('2011-05-13'),\n",
       " ('2011-05-13'),\n",
       " ('2011-05-13'),\n",
       " ('2011-05-13'),\n",
       " ('2011-05-13'),\n",
       " ('2011-05-13'),\n",
       " ('2011-05-20'),\n",
       " ('2011-05-20'),\n",
       " ('2011-05-20'),\n",
       " ('2011-05-20'),\n",
       " ('2011-05-20'),\n",
       " ('2011-05-20'),\n",
       " ('2011-05-20'),\n",
       " ('2011-05-20'),\n",
       " ('2011-05-20'),\n",
       " ('2011-05-20'),\n",
       " ('2011-05-20'),\n",
       " ('2011-05-20'),\n",
       " ('2011-05-20'),\n",
       " ('2011-05-20'),\n",
       " ('2011-05-20'),\n",
       " ('2011-05-20'),\n",
       " ('2011-05-20'),\n",
       " ('2011-05-20'),\n",
       " ('2011-05-20'),\n",
       " ('2011-05-20'),\n",
       " ('2011-05-20'),\n",
       " ('2011-05-20'),\n",
       " ('2011-05-20'),\n",
       " ('2011-05-20'),\n",
       " ('2011-05-20'),\n",
       " ('2011-05-20'),\n",
       " ('2011-05-20'),\n",
       " ('2011-05-20'),\n",
       " ('2011-05-20'),\n",
       " ('2011-05-20'),\n",
       " ('2011-05-27'),\n",
       " ('2011-05-27'),\n",
       " ('2011-05-27'),\n",
       " ('2011-05-27'),\n",
       " ('2011-05-27'),\n",
       " ('2011-05-27'),\n",
       " ('2011-05-27'),\n",
       " ('2011-05-27'),\n",
       " ('2011-05-27'),\n",
       " ('2011-05-27'),\n",
       " ('2011-05-27'),\n",
       " ('2011-05-27'),\n",
       " ('2011-05-27'),\n",
       " ('2011-05-27'),\n",
       " ('2011-05-27'),\n",
       " ('2011-05-27'),\n",
       " ('2011-05-27'),\n",
       " ('2011-05-27'),\n",
       " ('2011-05-27'),\n",
       " ('2011-05-27'),\n",
       " ('2011-05-27'),\n",
       " ('2011-05-27'),\n",
       " ('2011-05-27'),\n",
       " ('2011-05-27'),\n",
       " ('2011-05-27'),\n",
       " ('2011-05-27'),\n",
       " ('2011-05-27'),\n",
       " ('2011-05-27'),\n",
       " ('2011-05-27'),\n",
       " ('2011-05-27'),\n",
       " ('2011-06-03'),\n",
       " ('2011-06-03'),\n",
       " ('2011-06-03'),\n",
       " ('2011-06-03'),\n",
       " ('2011-06-03'),\n",
       " ('2011-06-03'),\n",
       " ('2011-06-03'),\n",
       " ('2011-06-03'),\n",
       " ('2011-06-03'),\n",
       " ('2011-06-03'),\n",
       " ('2011-06-03'),\n",
       " ('2011-06-03'),\n",
       " ('2011-06-03'),\n",
       " ('2011-06-03'),\n",
       " ('2011-06-03'),\n",
       " ('2011-06-03'),\n",
       " ('2011-06-03'),\n",
       " ('2011-06-03'),\n",
       " ('2011-06-03'),\n",
       " ('2011-06-03'),\n",
       " ('2011-06-03'),\n",
       " ('2011-06-03'),\n",
       " ('2011-06-03'),\n",
       " ('2011-06-03'),\n",
       " ('2011-06-03'),\n",
       " ('2011-06-03'),\n",
       " ('2011-06-03'),\n",
       " ('2011-06-03'),\n",
       " ('2011-06-03'),\n",
       " ('2011-06-03'),\n",
       " ('2011-06-10'),\n",
       " ('2011-06-10'),\n",
       " ('2011-06-10'),\n",
       " ('2011-06-10'),\n",
       " ('2011-06-10'),\n",
       " ('2011-06-10'),\n",
       " ('2011-06-10'),\n",
       " ('2011-06-10'),\n",
       " ('2011-06-10'),\n",
       " ('2011-06-10'),\n",
       " ('2011-06-10'),\n",
       " ('2011-06-10'),\n",
       " ('2011-06-10'),\n",
       " ('2011-06-10'),\n",
       " ('2011-06-10'),\n",
       " ('2011-06-10'),\n",
       " ('2011-06-10'),\n",
       " ('2011-06-10'),\n",
       " ('2011-06-10'),\n",
       " ('2011-06-10'),\n",
       " ('2011-06-10'),\n",
       " ('2011-06-10'),\n",
       " ('2011-06-10'),\n",
       " ('2011-06-10'),\n",
       " ('2011-06-10'),\n",
       " ('2011-06-10'),\n",
       " ('2011-06-10'),\n",
       " ('2011-06-10'),\n",
       " ('2011-06-10'),\n",
       " ('2011-06-10'),\n",
       " ('2011-06-17'),\n",
       " ('2011-06-17'),\n",
       " ('2011-06-17'),\n",
       " ('2011-06-17'),\n",
       " ('2011-06-17'),\n",
       " ('2011-06-17'),\n",
       " ('2011-06-17'),\n",
       " ('2011-06-17'),\n",
       " ('2011-06-17'),\n",
       " ('2011-06-17'),\n",
       " ('2011-06-17'),\n",
       " ('2011-06-17'),\n",
       " ('2011-06-17'),\n",
       " ('2011-06-17'),\n",
       " ('2011-06-17'),\n",
       " ('2011-06-17'),\n",
       " ('2011-06-17'),\n",
       " ('2011-06-17'),\n",
       " ('2011-06-17'),\n",
       " ('2011-06-17'),\n",
       " ('2011-06-17'),\n",
       " ('2011-06-17'),\n",
       " ('2011-06-17'),\n",
       " ('2011-06-17'),\n",
       " ('2011-06-17'),\n",
       " ('2011-06-17'),\n",
       " ('2011-06-17'),\n",
       " ('2011-06-17'),\n",
       " ('2011-06-17'),\n",
       " ('2011-06-17'),\n",
       " ('2011-06-24'),\n",
       " ('2011-06-24'),\n",
       " ('2011-06-24'),\n",
       " ('2011-06-24'),\n",
       " ('2011-06-24'),\n",
       " ('2011-06-24'),\n",
       " ('2011-06-24'),\n",
       " ('2011-06-24'),\n",
       " ('2011-06-24'),\n",
       " ('2011-06-24'),\n",
       " ('2011-06-24'),\n",
       " ('2011-06-24'),\n",
       " ('2011-06-24'),\n",
       " ('2011-06-24'),\n",
       " ('2011-06-24'),\n",
       " ('2011-06-24'),\n",
       " ('2011-06-24'),\n",
       " ('2011-06-24'),\n",
       " ('2011-06-24'),\n",
       " ('2011-06-24'),\n",
       " ('2011-06-24'),\n",
       " ('2011-06-24'),\n",
       " ('2011-06-24'),\n",
       " ('2011-06-24'),\n",
       " ('2011-06-24'),\n",
       " ('2011-06-24'),\n",
       " ('2011-06-24'),\n",
       " ('2011-06-24'),\n",
       " ('2011-06-24'),\n",
       " ('2011-06-24')]"
      ]
     },
     "execution_count": 12,
     "metadata": {},
     "output_type": "execute_result"
    }
   ],
   "source": [
    "session.query(Dow.date).\\\n",
    "    filter(Dow.date > '2011-03-01').\\\n",
    "    order_by(Dow.date).all()"
   ]
  },
  {
   "cell_type": "markdown",
   "metadata": {
    "slideshow": {
     "slide_type": "subslide"
    }
   },
   "source": [
    "### Important Note! Sqlite does not support a date column type, but SQLAlchemy will allow you to work with dates in the iso format. [sqlite dates](http://docs.sqlalchemy.org/en/latest/dialects/sqlite.html)"
   ]
  },
  {
   "cell_type": "markdown",
   "metadata": {
    "slideshow": {
     "slide_type": "slide"
    }
   },
   "source": [
    "# Quick Review of DateTime"
   ]
  },
  {
   "cell_type": "code",
   "execution_count": 13,
   "metadata": {
    "slideshow": {
     "slide_type": "subslide"
    }
   },
   "outputs": [],
   "source": [
    "import datetime as dt"
   ]
  },
  {
   "cell_type": "code",
   "execution_count": 14,
   "metadata": {
    "slideshow": {
     "slide_type": "fragment"
    }
   },
   "outputs": [
    {
     "name": "stdout",
     "output_type": "stream",
     "text": [
      "2021-01-14\n",
      "2017-10-08\n"
     ]
    }
   ],
   "source": [
    "# Print today's date \n",
    "print(dt.date.today())\n",
    "# Print a specific date \n",
    "print(dt.date(2017,10 ,8))"
   ]
  },
  {
   "cell_type": "code",
   "execution_count": 15,
   "metadata": {
    "slideshow": {
     "slide_type": "fragment"
    }
   },
   "outputs": [
    {
     "name": "stdout",
     "output_type": "stream",
     "text": [
      "2021-01-14 18:22:33.157431\n",
      "2017-10-08 00:00:00\n"
     ]
    }
   ],
   "source": [
    "# Print a datetime object \n",
    "print(dt.datetime.utcnow())\n",
    "print(dt.datetime(2017,10 ,8))"
   ]
  },
  {
   "cell_type": "markdown",
   "metadata": {
    "slideshow": {
     "slide_type": "subslide"
    }
   },
   "source": [
    "Calculate a time delta"
   ]
  },
  {
   "cell_type": "code",
   "execution_count": 16,
   "metadata": {
    "slideshow": {
     "slide_type": "fragment"
    }
   },
   "outputs": [
    {
     "data": {
      "text/plain": [
       "datetime.date(2020, 11, 12)"
      ]
     },
     "execution_count": 16,
     "metadata": {},
     "output_type": "execute_result"
    }
   ],
   "source": [
    "# The date 9 weeks ago from today. \n",
    "week_ago = dt.date.today() - dt.timedelta(days=63)\n",
    "week_ago"
   ]
  },
  {
   "cell_type": "code",
   "execution_count": 17,
   "metadata": {},
   "outputs": [
    {
     "name": "stdout",
     "output_type": "stream",
     "text": [
      "1002 days, 5:37:26.832448\n"
     ]
    }
   ],
   "source": [
    "# The number of days between two datetime objects – When the next solar eclipse will be and today.\n",
    "a = dt.datetime(2023, 10, 14) \n",
    "b = dt.datetime.utcnow()\n",
    "  \n",
    "# returns a timedelta object \n",
    "c = a-b  \n",
    "print(c)"
   ]
  },
  {
   "cell_type": "markdown",
   "metadata": {
    "slideshow": {
     "slide_type": "subslide"
    }
   },
   "source": [
    "Query for the Dow closing price 1 week before `2011-04-08` using the datetime library"
   ]
  },
  {
   "cell_type": "code",
   "execution_count": 18,
   "metadata": {
    "slideshow": {
     "slide_type": "fragment"
    }
   },
   "outputs": [
    {
     "name": "stdout",
     "output_type": "stream",
     "text": [
      "Query Date:  2011-04-01\n"
     ]
    }
   ],
   "source": [
    "# Query for the Dow closing price for `CSCO` 1 week before `2011-04-08` using the datetime library\n",
    "query_date = dt.date(2011, 4, 8) - dt.timedelta(days=7)\n",
    "print(\"Query Date: \", query_date)"
   ]
  },
  {
   "cell_type": "code",
   "execution_count": 19,
   "metadata": {
    "slideshow": {
     "slide_type": "fragment"
    }
   },
   "outputs": [
    {
     "data": {
      "text/plain": [
       "[('2011-04-01', 17.04)]"
      ]
     },
     "execution_count": 19,
     "metadata": {},
     "output_type": "execute_result"
    }
   ],
   "source": [
    "session.query(Dow.date, Dow.close_price).\\\n",
    "    filter(Dow.stock == 'CSCO').\\\n",
    "    filter(Dow.date == query_date).all()"
   ]
  },
  {
   "cell_type": "code",
   "execution_count": 20,
   "metadata": {
    "slideshow": {
     "slide_type": "subslide"
    }
   },
   "outputs": [
    {
     "data": {
      "text/plain": [
       "'14'"
      ]
     },
     "execution_count": 20,
     "metadata": {},
     "output_type": "execute_result"
    }
   ],
   "source": [
    "# Parse out just the day from the datetime object\n",
    "dt.date.today().strftime(\"%d\")"
   ]
  },
  {
   "cell_type": "markdown",
   "metadata": {
    "slideshow": {
     "slide_type": "subslide"
    }
   },
   "source": [
    "Putting it all together"
   ]
  },
  {
   "cell_type": "code",
   "execution_count": 21,
   "metadata": {
    "slideshow": {
     "slide_type": "fragment"
    }
   },
   "outputs": [
    {
     "data": {
      "text/plain": [
       "[('2011-01-14', 'AA', 16.71, 15.97),\n",
       " ('2011-01-14', 'AXP', 44.2, 46.25),\n",
       " ('2011-01-14', 'BA', 69.42, 70.07),\n",
       " ('2011-01-14', 'BAC', 14.17, 15.25),\n",
       " ('2011-01-14', 'CAT', 93.21, 94.01),\n",
       " ('2011-01-14', 'CSCO', 20.94, 21.21),\n",
       " ('2011-01-14', 'CVX', 90.95, 92.83),\n",
       " ('2011-01-14', 'DD', 48.3, 49.8),\n",
       " ('2011-01-14', 'DIS', 39.01, 39.29),\n",
       " ('2011-01-14', 'GE', 18.61, 18.82),\n",
       " ('2011-01-14', 'HD', 34.16, 35.89),\n",
       " ('2011-01-14', 'HPQ', 44.86, 46.25),\n",
       " ('2011-01-14', 'IBM', 147.0, 150.0),\n",
       " ('2011-01-14', 'INTC', 20.71, 21.08),\n",
       " ('2011-01-14', 'JNJ', 62.29, 62.55),\n",
       " ('2011-01-14', 'JPM', 43.27, 44.91),\n",
       " ('2011-01-14', 'KRFT', 30.91, 31.34),\n",
       " ('2011-01-14', 'KO', 62.7, 63.13),\n",
       " ('2011-01-14', 'MCD', 74.25, 74.06),\n",
       " ('2011-01-14', 'MMM', 85.7, 88.1),\n",
       " ('2011-01-14', 'MRK', 37.26, 34.23),\n",
       " ('2011-01-14', 'MSFT', 28.2, 28.3),\n",
       " ('2011-01-14', 'PFE', 18.22, 18.34),\n",
       " ('2011-01-14', 'PG', 64.4, 65.53),\n",
       " ('2011-01-14', 'T', 28.54, 28.43),\n",
       " ('2011-01-14', 'TRV', 53.12, 54.63),\n",
       " ('2011-01-14', 'UTX', 78.27, 79.08),\n",
       " ('2011-01-14', 'VZ', 36.55, 35.46),\n",
       " ('2011-01-14', 'WMT', 53.65, 54.81),\n",
       " ('2011-01-14', 'XOM', 75.13, 77.84)]"
      ]
     },
     "execution_count": 21,
     "metadata": {},
     "output_type": "execute_result"
    }
   ],
   "source": [
    "# Query for all stocks, their opening and closing price that match\n",
    "# following date string in the format `%d`\n",
    "date_str = \"14\"\n",
    "session.query(Dow.date, Dow.stock, Dow.open_price, Dow.close_price).\\\n",
    "    filter(func.strftime(\"%d\", Dow.date) == date_str).all()"
   ]
  },
  {
   "cell_type": "markdown",
   "metadata": {
    "slideshow": {
     "slide_type": "subslide"
    }
   },
   "source": [
    "## Your Turn!"
   ]
  },
  {
   "cell_type": "markdown",
   "metadata": {
    "slideshow": {
     "slide_type": "notes"
    }
   },
   "source": [
    "DataSet Citation: \n",
    "\n",
    "Brown, M. S., Pelosi, M. & Dirska, H. (2013). Dynamic-radius Species-conserving Genetic Algorithm for \n",
    "the Financial Forecasting of Dow Jones Index Stocks. Machine Learning and Data Mining in Pattern \n",
    "Recognition, 7988, 27-41.\n"
   ]
  }
 ],
 "metadata": {
  "celltoolbar": "Slideshow",
  "kernelspec": {
   "display_name": "Python 3",
   "language": "python",
   "name": "python3"
  },
  "language_info": {
   "codemirror_mode": {
    "name": "ipython",
    "version": 3
   },
   "file_extension": ".py",
   "mimetype": "text/x-python",
   "name": "python",
   "nbconvert_exporter": "python",
   "pygments_lexer": "ipython3",
   "version": "3.6.10"
  },
  "varInspector": {
   "cols": {
    "lenName": 16,
    "lenType": 16,
    "lenVar": 40
   },
   "kernels_config": {
    "python": {
     "delete_cmd_postfix": "",
     "delete_cmd_prefix": "del ",
     "library": "var_list.py",
     "varRefreshCmd": "print(var_dic_list())"
    },
    "r": {
     "delete_cmd_postfix": ") ",
     "delete_cmd_prefix": "rm(",
     "library": "var_list.r",
     "varRefreshCmd": "cat(var_dic_list()) "
    }
   },
   "types_to_exclude": [
    "module",
    "function",
    "builtin_function_or_method",
    "instance",
    "_Feature"
   ],
   "window_display": false
  }
 },
 "nbformat": 4,
 "nbformat_minor": 2
}
