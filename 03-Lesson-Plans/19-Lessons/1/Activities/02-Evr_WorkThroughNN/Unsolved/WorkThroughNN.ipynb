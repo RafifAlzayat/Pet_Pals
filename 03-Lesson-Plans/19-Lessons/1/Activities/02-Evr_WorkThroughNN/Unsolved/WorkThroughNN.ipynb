{
 "cells": [
  {
   "cell_type": "code",
   "execution_count": 1,
   "metadata": {},
   "outputs": [],
   "source": [
    "# Import our dependencies\n",
    "import pandas as pd\n",
    "import matplotlib as plt\n",
    "from sklearn.datasets import make_blobs\n",
    "import sklearn as skl\n",
    "import tensorflow as tf"
   ]
  },
  {
   "cell_type": "code",
   "execution_count": 2,
   "metadata": {},
   "outputs": [
    {
     "data": {
      "text/plain": [
       "<matplotlib.axes._subplots.AxesSubplot at 0x7fa88f2f3d50>"
      ]
     },
     "execution_count": 2,
     "metadata": {},
     "output_type": "execute_result"
    },
    {
     "data": {
      "image/png": "[encoded data removed]",
      "text/plain": [
       "<Figure size 432x288 with 2 Axes>"
      ]
     },
     "metadata": {
      "needs_background": "light"
     },
     "output_type": "display_data"
    }
   ],
   "source": [
    "# Generate dummy dataset\n",
    "X, y = make_blobs(n_samples=1000, centers=2, n_features=2, random_state=78)\n",
    "\n",
    "# Creating a DataFrame with the dummy data\n",
    "df = pd.DataFrame(X, columns=[\"Feature 1\", \"Feature 2\"])\n",
    "df[\"Target\"] = y\n",
    "\n",
    "# Plotting the dummy data\n",
    "df.plot.scatter(x=\"Feature 1\", y=\"Feature 2\", c=\"Target\", colormap=\"winter\")"
   ]
  },
  {
   "cell_type": "code",
   "execution_count": 3,
   "metadata": {},
   "outputs": [],
   "source": [
    "# Use sklearn to split dataset\n",
    "from sklearn.model_selection import train_test_split\n",
    "X_train, X_test, y_train, y_test = train_test_split(X, y, random_state=78)"
   ]
  },
  {
   "cell_type": "code",
   "execution_count": 4,
   "metadata": {},
   "outputs": [],
   "source": [
    "# Create scaler instance\n",
    "X_scaler = skl.preprocessing.StandardScaler()\n",
    "\n",
    "# Fit the scaler\n",
    "X_scaler.fit(X_train)\n",
    "\n",
    "# Scale the data\n",
    "X_train_scaled = X_scaler.transform(X_train)\n",
    "X_test_scaled = X_scaler.transform(X_test)"
   ]
  },
  {
   "cell_type": "code",
   "execution_count": 5,
   "metadata": {},
   "outputs": [],
   "source": [
    "# Create the Keras Sequential model\n",
    "nn_model = tf.keras.models.Sequential()"
   ]
  },
  {
   "cell_type": "code",
   "execution_count": 6,
   "metadata": {},
   "outputs": [],
   "source": [
    "# Add our first Dense layer, including the input layer\n",
    "nn_model.add(tf.keras.layers.Dense(units=5, activation=\"relu\", input_dim=2))"
   ]
  },
  {
   "cell_type": "code",
   "execution_count": 7,
   "metadata": {},
   "outputs": [],
   "source": [
    "# Add the output layer that uses a probability activation function\n",
    "nn_model.add(tf.keras.layers.Dense(units=1, activation=\"sigmoid\"))"
   ]
  },
  {
   "cell_type": "code",
   "execution_count": 8,
   "metadata": {},
   "outputs": [
    {
     "name": "stdout",
     "output_type": "stream",
     "text": [
      "Model: \"sequential\"\n",
      "_________________________________________________________________\n",
      "Layer (type)                 Output Shape              Param #   \n",
      "=================================================================\n",
      "dense (Dense)                (None, 5)                 15        \n",
      "_________________________________________________________________\n",
      "dense_1 (Dense)              (None, 1)                 6         \n",
      "=================================================================\n",
      "Total params: 21\n",
      "Trainable params: 21\n",
      "Non-trainable params: 0\n",
      "_________________________________________________________________\n"
     ]
    }
   ],
   "source": [
    "# Check the structure of the Sequential model\n",
    "nn_model.summary()"
   ]
  },
  {
   "cell_type": "code",
   "execution_count": 9,
   "metadata": {},
   "outputs": [
    {
     "name": "stdout",
     "output_type": "stream",
     "text": [
      "Train on 750 samples\n",
      "Epoch 1/100\n",
      "750/750 [==============================] - 1s 1ms/sample - loss: 0.7266 - accuracy: 0.4933\n",
      "Epoch 2/100\n",
      "750/750 [==============================] - 0s 44us/sample - loss: 0.6611 - accuracy: 0.4933\n",
      "Epoch 3/100\n",
      "750/750 [==============================] - 0s 45us/sample - loss: 0.6052 - accuracy: 0.4933\n",
      "Epoch 4/100\n",
      "750/750 [==============================] - 0s 43us/sample - loss: 0.5572 - accuracy: 0.4933\n",
      "Epoch 5/100\n",
      "750/750 [==============================] - 0s 46us/sample - loss: 0.5176 - accuracy: 0.4933\n",
      "Epoch 6/100\n",
      "750/750 [==============================] - 0s 43us/sample - loss: 0.4834 - accuracy: 0.5053\n",
      "Epoch 7/100\n",
      "750/750 [==============================] - 0s 42us/sample - loss: 0.4549 - accuracy: 0.6227\n",
      "Epoch 8/100\n",
      "750/750 [==============================] - 0s 44us/sample - loss: 0.4307 - accuracy: 0.8600\n",
      "Epoch 9/100\n",
      "750/750 [==============================] - 0s 43us/sample - loss: 0.4097 - accuracy: 0.9600\n",
      "Epoch 10/100\n",
      "750/750 [==============================] - 0s 44us/sample - loss: 0.3917 - accuracy: 0.9773\n",
      "Epoch 11/100\n",
      "750/750 [==============================] - 0s 44us/sample - loss: 0.3762 - accuracy: 0.9787\n",
      "Epoch 12/100\n",
      "750/750 [==============================] - 0s 54us/sample - loss: 0.3630 - accuracy: 0.9813\n",
      "Epoch 13/100\n",
      "750/750 [==============================] - 0s 52us/sample - loss: 0.3515 - accuracy: 0.9827\n",
      "Epoch 14/100\n",
      "750/750 [==============================] - 0s 58us/sample - loss: 0.3414 - accuracy: 0.9827\n",
      "Epoch 15/100\n",
      "750/750 [==============================] - 0s 55us/sample - loss: 0.3320 - accuracy: 0.9840\n",
      "Epoch 16/100\n",
      "750/750 [==============================] - 0s 54us/sample - loss: 0.3233 - accuracy: 0.9867\n",
      "Epoch 17/100\n",
      "750/750 [==============================] - 0s 50us/sample - loss: 0.3151 - accuracy: 0.9867\n",
      "Epoch 18/100\n",
      "750/750 [==============================] - 0s 50us/sample - loss: 0.3074 - accuracy: 0.9880\n",
      "Epoch 19/100\n",
      "750/750 [==============================] - 0s 44us/sample - loss: 0.3001 - accuracy: 0.9880\n",
      "Epoch 20/100\n",
      "750/750 [==============================] - 0s 45us/sample - loss: 0.2931 - accuracy: 0.9893\n",
      "Epoch 21/100\n",
      "750/750 [==============================] - 0s 43us/sample - loss: 0.2864 - accuracy: 0.9907\n",
      "Epoch 22/100\n",
      "750/750 [==============================] - 0s 46us/sample - loss: 0.2800 - accuracy: 0.9907\n",
      "Epoch 23/100\n",
      "750/750 [==============================] - 0s 44us/sample - loss: 0.2738 - accuracy: 0.9920\n",
      "Epoch 24/100\n",
      "750/750 [==============================] - 0s 45us/sample - loss: 0.2679 - accuracy: 0.9920\n",
      "Epoch 25/100\n",
      "750/750 [==============================] - 0s 47us/sample - loss: 0.2621 - accuracy: 0.9920\n",
      "Epoch 26/100\n",
      "750/750 [==============================] - 0s 44us/sample - loss: 0.2566 - accuracy: 0.9920\n",
      "Epoch 27/100\n",
      "750/750 [==============================] - 0s 48us/sample - loss: 0.2512 - accuracy: 0.9933\n",
      "Epoch 28/100\n",
      "750/750 [==============================] - 0s 46us/sample - loss: 0.2460 - accuracy: 0.9947\n",
      "Epoch 29/100\n",
      "750/750 [==============================] - 0s 46us/sample - loss: 0.2409 - accuracy: 0.9960\n",
      "Epoch 30/100\n",
      "750/750 [==============================] - 0s 44us/sample - loss: 0.2360 - accuracy: 0.9973\n",
      "Epoch 31/100\n",
      "750/750 [==============================] - 0s 46us/sample - loss: 0.2312 - accuracy: 0.9987\n",
      "Epoch 32/100\n",
      "750/750 [==============================] - 0s 45us/sample - loss: 0.2266 - accuracy: 0.9987\n",
      "Epoch 33/100\n",
      "750/750 [==============================] - 0s 45us/sample - loss: 0.2221 - accuracy: 0.9987\n",
      "Epoch 34/100\n",
      "750/750 [==============================] - 0s 45us/sample - loss: 0.2178 - accuracy: 0.9987\n",
      "Epoch 35/100\n",
      "750/750 [==============================] - 0s 46us/sample - loss: 0.2135 - accuracy: 0.9987\n",
      "Epoch 36/100\n",
      "750/750 [==============================] - 0s 44us/sample - loss: 0.2094 - accuracy: 0.9987\n",
      "Epoch 37/100\n",
      "750/750 [==============================] - 0s 57us/sample - loss: 0.2054 - accuracy: 0.9987\n",
      "Epoch 38/100\n",
      "750/750 [==============================] - 0s 51us/sample - loss: 0.2015 - accuracy: 0.9987\n",
      "Epoch 39/100\n",
      "750/750 [==============================] - 0s 50us/sample - loss: 0.1978 - accuracy: 0.9987\n",
      "Epoch 40/100\n",
      "750/750 [==============================] - 0s 52us/sample - loss: 0.1941 - accuracy: 1.0000\n",
      "Epoch 41/100\n",
      "750/750 [==============================] - 0s 53us/sample - loss: 0.1905 - accuracy: 1.0000\n",
      "Epoch 42/100\n",
      "750/750 [==============================] - 0s 63us/sample - loss: 0.1870 - accuracy: 1.0000\n",
      "Epoch 43/100\n",
      "750/750 [==============================] - 0s 57us/sample - loss: 0.1835 - accuracy: 1.0000\n",
      "Epoch 44/100\n",
      "750/750 [==============================] - 0s 66us/sample - loss: 0.1802 - accuracy: 1.0000\n",
      "Epoch 45/100\n",
      "750/750 [==============================] - 0s 62us/sample - loss: 0.1770 - accuracy: 1.0000\n",
      "Epoch 46/100\n",
      "750/750 [==============================] - 0s 67us/sample - loss: 0.1739 - accuracy: 1.0000\n",
      "Epoch 47/100\n",
      "750/750 [==============================] - 0s 46us/sample - loss: 0.1708 - accuracy: 1.0000\n",
      "Epoch 48/100\n",
      "750/750 [==============================] - 0s 44us/sample - loss: 0.1678 - accuracy: 1.0000\n",
      "Epoch 49/100\n",
      "750/750 [==============================] - 0s 43us/sample - loss: 0.1649 - accuracy: 1.0000\n",
      "Epoch 50/100\n",
      "750/750 [==============================] - 0s 44us/sample - loss: 0.1620 - accuracy: 1.0000\n",
      "Epoch 51/100\n",
      "750/750 [==============================] - 0s 44us/sample - loss: 0.1593 - accuracy: 1.0000\n",
      "Epoch 52/100\n",
      "750/750 [==============================] - 0s 44us/sample - loss: 0.1566 - accuracy: 1.0000\n",
      "Epoch 53/100\n",
      "750/750 [==============================] - 0s 49us/sample - loss: 0.1539 - accuracy: 1.0000\n",
      "Epoch 54/100\n",
      "750/750 [==============================] - 0s 49us/sample - loss: 0.1513 - accuracy: 1.0000\n",
      "Epoch 55/100\n",
      "750/750 [==============================] - 0s 48us/sample - loss: 0.1488 - accuracy: 1.0000\n",
      "Epoch 56/100\n",
      "750/750 [==============================] - 0s 44us/sample - loss: 0.1463 - accuracy: 1.0000\n",
      "Epoch 57/100\n",
      "750/750 [==============================] - 0s 44us/sample - loss: 0.1439 - accuracy: 1.0000\n",
      "Epoch 58/100\n",
      "750/750 [==============================] - 0s 44us/sample - loss: 0.1415 - accuracy: 1.0000\n",
      "Epoch 59/100\n",
      "750/750 [==============================] - 0s 46us/sample - loss: 0.1392 - accuracy: 1.0000\n",
      "Epoch 60/100\n",
      "750/750 [==============================] - 0s 45us/sample - loss: 0.1370 - accuracy: 1.0000\n",
      "Epoch 61/100\n",
      "750/750 [==============================] - 0s 44us/sample - loss: 0.1347 - accuracy: 1.0000\n",
      "Epoch 62/100\n",
      "750/750 [==============================] - 0s 45us/sample - loss: 0.1325 - accuracy: 1.0000\n",
      "Epoch 63/100\n",
      "750/750 [==============================] - 0s 45us/sample - loss: 0.1304 - accuracy: 1.0000\n",
      "Epoch 64/100\n",
      "750/750 [==============================] - 0s 44us/sample - loss: 0.1283 - accuracy: 1.0000\n",
      "Epoch 65/100\n",
      "750/750 [==============================] - 0s 44us/sample - loss: 0.1263 - accuracy: 1.0000\n",
      "Epoch 66/100\n",
      "750/750 [==============================] - 0s 44us/sample - loss: 0.1243 - accuracy: 1.0000\n",
      "Epoch 67/100\n",
      "750/750 [==============================] - 0s 45us/sample - loss: 0.1224 - accuracy: 1.0000\n",
      "Epoch 68/100\n",
      "750/750 [==============================] - 0s 44us/sample - loss: 0.1205 - accuracy: 1.0000\n",
      "Epoch 69/100\n",
      "750/750 [==============================] - 0s 43us/sample - loss: 0.1186 - accuracy: 1.0000\n",
      "Epoch 70/100\n",
      "750/750 [==============================] - 0s 54us/sample - loss: 0.1167 - accuracy: 1.0000\n",
      "Epoch 71/100\n",
      "750/750 [==============================] - 0s 42us/sample - loss: 0.1150 - accuracy: 1.0000\n",
      "Epoch 72/100\n",
      "750/750 [==============================] - 0s 41us/sample - loss: 0.1132 - accuracy: 1.0000\n",
      "Epoch 73/100\n",
      "750/750 [==============================] - 0s 41us/sample - loss: 0.1115 - accuracy: 1.0000\n",
      "Epoch 74/100\n",
      "750/750 [==============================] - 0s 41us/sample - loss: 0.1098 - accuracy: 1.0000\n",
      "Epoch 75/100\n",
      "750/750 [==============================] - 0s 46us/sample - loss: 0.1081 - accuracy: 1.0000\n",
      "Epoch 76/100\n",
      "750/750 [==============================] - 0s 42us/sample - loss: 0.1065 - accuracy: 1.0000\n",
      "Epoch 77/100\n",
      "750/750 [==============================] - 0s 43us/sample - loss: 0.1049 - accuracy: 1.0000\n",
      "Epoch 78/100\n"
     ]
    },
    {
     "name": "stdout",
     "output_type": "stream",
     "text": [
      "750/750 [==============================] - 0s 43us/sample - loss: 0.1034 - accuracy: 1.0000\n",
      "Epoch 79/100\n",
      "750/750 [==============================] - 0s 41us/sample - loss: 0.1018 - accuracy: 1.0000\n",
      "Epoch 80/100\n",
      "750/750 [==============================] - 0s 41us/sample - loss: 0.1003 - accuracy: 1.0000\n",
      "Epoch 81/100\n",
      "750/750 [==============================] - 0s 41us/sample - loss: 0.0989 - accuracy: 1.0000\n",
      "Epoch 82/100\n",
      "750/750 [==============================] - 0s 41us/sample - loss: 0.0974 - accuracy: 1.0000\n",
      "Epoch 83/100\n",
      "750/750 [==============================] - 0s 41us/sample - loss: 0.0960 - accuracy: 1.0000\n",
      "Epoch 84/100\n",
      "750/750 [==============================] - 0s 44us/sample - loss: 0.0946 - accuracy: 1.0000\n",
      "Epoch 85/100\n",
      "750/750 [==============================] - 0s 43us/sample - loss: 0.0933 - accuracy: 1.0000\n",
      "Epoch 86/100\n",
      "750/750 [==============================] - 0s 43us/sample - loss: 0.0919 - accuracy: 1.0000\n",
      "Epoch 87/100\n",
      "750/750 [==============================] - 0s 44us/sample - loss: 0.0906 - accuracy: 1.0000\n",
      "Epoch 88/100\n",
      "750/750 [==============================] - 0s 47us/sample - loss: 0.0893 - accuracy: 1.0000\n",
      "Epoch 89/100\n",
      "750/750 [==============================] - 0s 42us/sample - loss: 0.0880 - accuracy: 1.0000\n",
      "Epoch 90/100\n",
      "750/750 [==============================] - 0s 41us/sample - loss: 0.0868 - accuracy: 1.0000\n",
      "Epoch 91/100\n",
      "750/750 [==============================] - 0s 41us/sample - loss: 0.0856 - accuracy: 1.0000\n",
      "Epoch 92/100\n",
      "750/750 [==============================] - 0s 45us/sample - loss: 0.0844 - accuracy: 1.0000\n",
      "Epoch 93/100\n",
      "750/750 [==============================] - 0s 46us/sample - loss: 0.0832 - accuracy: 1.0000\n",
      "Epoch 94/100\n",
      "750/750 [==============================] - 0s 42us/sample - loss: 0.0820 - accuracy: 1.0000\n",
      "Epoch 95/100\n",
      "750/750 [==============================] - 0s 40us/sample - loss: 0.0809 - accuracy: 1.0000\n",
      "Epoch 96/100\n",
      "750/750 [==============================] - 0s 41us/sample - loss: 0.0798 - accuracy: 1.0000\n",
      "Epoch 97/100\n",
      "750/750 [==============================] - 0s 41us/sample - loss: 0.0787 - accuracy: 1.0000\n",
      "Epoch 98/100\n",
      "750/750 [==============================] - 0s 43us/sample - loss: 0.0776 - accuracy: 1.0000\n",
      "Epoch 99/100\n",
      "750/750 [==============================] - 0s 42us/sample - loss: 0.0765 - accuracy: 1.0000\n",
      "Epoch 100/100\n",
      "750/750 [==============================] - 0s 49us/sample - loss: 0.0755 - accuracy: 1.0000\n"
     ]
    }
   ],
   "source": [
    "# Compile the Sequential model together and customize metrics\n",
    "nn_model.compile(loss=\"binary_crossentropy\", optimizer=\"adam\", metrics=[\"accuracy\"])\n",
    "\n",
    "# Fit the model to the training data\n",
    "fit_model = nn_model.fit(X_train_scaled, y_train, epochs=100)"
   ]
  },
  {
   "cell_type": "code",
   "execution_count": 10,
   "metadata": {},
   "outputs": [
    {
     "data": {
      "text/plain": [
       "<matplotlib.axes._subplots.AxesSubplot at 0x7fa8905f2a90>"
      ]
     },
     "execution_count": 10,
     "metadata": {},
     "output_type": "execute_result"
    },
    {
     "data": {
      "image/png": "[encoded data removed]",
      "text/plain": [
       "<Figure size 432x288 with 1 Axes>"
      ]
     },
     "metadata": {
      "needs_background": "light"
     },
     "output_type": "display_data"
    }
   ],
   "source": [
    "# Create a DataFrame containing training history\n",
    "history_df = pd.DataFrame(fit_model.history)\n",
    "\n",
    "# Increase the index by 1 to match the number of epochs\n",
    "history_df.index += 1\n",
    "\n",
    "# Plot the loss\n",
    "history_df.plot(y=\"loss\")"
   ]
  },
  {
   "cell_type": "code",
   "execution_count": 11,
   "metadata": {},
   "outputs": [
    {
     "data": {
      "text/plain": [
       "<matplotlib.axes._subplots.AxesSubplot at 0x7fa871466450>"
      ]
     },
     "execution_count": 11,
     "metadata": {},
     "output_type": "execute_result"
    },
    {
     "data": {
      "image/png": "[encoded data removed]",
      "text/plain": [
       "<Figure size 432x288 with 1 Axes>"
      ]
     },
     "metadata": {
      "needs_background": "light"
     },
     "output_type": "display_data"
    }
   ],
   "source": [
    "# Plot the accuracy\n",
    "history_df.plot(y=\"accuracy\")"
   ]
  },
  {
   "cell_type": "code",
   "execution_count": 12,
   "metadata": {},
   "outputs": [
    {
     "name": "stdout",
     "output_type": "stream",
     "text": [
      "250/1 - 0s - loss: 0.0800 - accuracy: 1.0000\n",
      "Loss: 0.07064076489210129, Accuracy: 1.0\n"
     ]
    }
   ],
   "source": [
    "# Evaluate the model using the test data\n",
    "model_loss, model_accuracy = nn_model.evaluate(X_test_scaled,y_test,verbose=2)\n",
    "print(f\"Loss: {model_loss}, Accuracy: {model_accuracy}\")"
   ]
  },
  {
   "cell_type": "code",
   "execution_count": null,
   "metadata": {},
   "outputs": [],
   "source": []
  }
 ],
 "metadata": {
  "kernelspec": {
   "display_name": "mlenv",
   "language": "python",
   "name": "mlenv"
  },
  "language_info": {
   "codemirror_mode": {
    "name": "ipython",
    "version": 3
   },
   "file_extension": ".py",
   "mimetype": "text/x-python",
   "name": "python",
   "nbconvert_exporter": "python",
   "pygments_lexer": "ipython3",
   "version": "3.7.7"
  }
 },
 "nbformat": 4,
 "nbformat_minor": 2
}
