{
 "cells": [
  {
   "cell_type": "markdown",
   "metadata": {},
   "source": [
    "Here is a function that takes in a value x and returns x times itself. There are four parts to this function:\n",
    "1. Name (`square`)\n",
    "2. Parameter (`x`)\n",
    "3. Code Block (`squared_value = x*x`)\n",
    "4. Return statement (`return squared_value`)"
   ]
  },
  {
   "cell_type": "code",
   "execution_count": 3,
   "metadata": {
    "collapsed": true
   },
   "outputs": [],
   "source": [
    "def square(x):\n",
    "    squared_value = x*x\n",
    "    return squared_value"
   ]
  },
  {
   "cell_type": "markdown",
   "metadata": {},
   "source": [
    "We can represent the same function with a lambda. It has no name, so we assign it to the variable `f` to demonstrate how to use it. It also has no code block, it only returns the expression `x*x`"
   ]
  },
  {
   "cell_type": "code",
   "execution_count": 4,
   "metadata": {
    "collapsed": true
   },
   "outputs": [],
   "source": [
    "f = lambda x: x*x"
   ]
  },
  {
   "cell_type": "markdown",
   "metadata": {},
   "source": [
    "Both functions give the same result"
   ]
  },
  {
   "cell_type": "code",
   "execution_count": 5,
   "metadata": {},
   "outputs": [
    {
     "data": {
      "text/plain": [
       "25"
      ]
     },
     "execution_count": 5,
     "metadata": {},
     "output_type": "execute_result"
    }
   ],
   "source": [
    "square(5)"
   ]
  },
  {
   "cell_type": "code",
   "execution_count": 6,
   "metadata": {},
   "outputs": [
    {
     "data": {
      "text/plain": [
       "25"
      ]
     },
     "execution_count": 6,
     "metadata": {},
     "output_type": "execute_result"
    }
   ],
   "source": [
    "f(5)"
   ]
  },
  {
   "cell_type": "markdown",
   "metadata": {},
   "source": [
    "But lambda functions are meant to be used when passed as a parameter (remember, in Python, functions are first-class variables!)\n",
    "\n",
    "Here's a simple example: a function called `apply_function_twice` that takes in a function and applies it twice to a value `input_value`"
   ]
  },
  {
   "cell_type": "code",
   "execution_count": 7,
   "metadata": {
    "collapsed": true
   },
   "outputs": [],
   "source": [
    "def apply_function_twice(func, input_value):\n",
    "    return func(func(input_value))"
   ]
  },
  {
   "cell_type": "markdown",
   "metadata": {},
   "source": [
    "we can use `apply_function` to square the number 6 using `square`, `f`, or the original lambda function we assigned to `f`."
   ]
  },
  {
   "cell_type": "code",
   "execution_count": 9,
   "metadata": {},
   "outputs": [
    {
     "data": {
      "text/plain": [
       "81"
      ]
     },
     "execution_count": 9,
     "metadata": {},
     "output_type": "execute_result"
    }
   ],
   "source": [
    "apply_function_twice(square, 3)"
   ]
  },
  {
   "cell_type": "code",
   "execution_count": 10,
   "metadata": {},
   "outputs": [
    {
     "data": {
      "text/plain": [
       "81"
      ]
     },
     "execution_count": 10,
     "metadata": {},
     "output_type": "execute_result"
    }
   ],
   "source": [
    "apply_function_twice(f, 3)"
   ]
  },
  {
   "cell_type": "code",
   "execution_count": 12,
   "metadata": {},
   "outputs": [
    {
     "data": {
      "text/plain": [
       "81"
      ]
     },
     "execution_count": 12,
     "metadata": {},
     "output_type": "execute_result"
    }
   ],
   "source": [
    "apply_function_twice(lambda x: x*x, 3)"
   ]
  },
  {
   "cell_type": "markdown",
   "metadata": {},
   "source": [
    "lambda functions become really powerful when combined with Pandas, using the `apply()` method."
   ]
  },
  {
   "cell_type": "code",
   "execution_count": 17,
   "metadata": {
    "collapsed": true
   },
   "outputs": [],
   "source": [
    "import pandas as pd"
   ]
  },
  {
   "cell_type": "markdown",
   "metadata": {},
   "source": [
    "Suppose we have a dataset of candy with a handful of attributes, ratings, and costs"
   ]
  },
  {
   "cell_type": "code",
   "execution_count": 37,
   "metadata": {},
   "outputs": [
    {
     "data": {
      "text/html": [
       "<div>\n",
       "<style scoped>\n",
       "    .dataframe tbody tr th:only-of-type {\n",
       "        vertical-align: middle;\n",
       "    }\n",
       "\n",
       "    .dataframe tbody tr th {\n",
       "        vertical-align: top;\n",
       "    }\n",
       "\n",
       "    .dataframe thead th {\n",
       "        text-align: right;\n",
       "    }\n",
       "</style>\n",
       "<table border=\"1\" class=\"dataframe\">\n",
       "  <thead>\n",
       "    <tr style=\"text-align: right;\">\n",
       "      <th></th>\n",
       "      <th>candy</th>\n",
       "      <th>has_chocolate</th>\n",
       "      <th>has_nuts</th>\n",
       "      <th>is_fruity</th>\n",
       "      <th>rating</th>\n",
       "      <th>cost</th>\n",
       "    </tr>\n",
       "  </thead>\n",
       "  <tbody>\n",
       "    <tr>\n",
       "      <th>0</th>\n",
       "      <td>snickers</td>\n",
       "      <td>True</td>\n",
       "      <td>True</td>\n",
       "      <td>False</td>\n",
       "      <td>9.5</td>\n",
       "      <td>1.50</td>\n",
       "    </tr>\n",
       "    <tr>\n",
       "      <th>1</th>\n",
       "      <td>skittles</td>\n",
       "      <td>False</td>\n",
       "      <td>False</td>\n",
       "      <td>True</td>\n",
       "      <td>9.2</td>\n",
       "      <td>0.99</td>\n",
       "    </tr>\n",
       "    <tr>\n",
       "      <th>2</th>\n",
       "      <td>caramello</td>\n",
       "      <td>True</td>\n",
       "      <td>False</td>\n",
       "      <td>False</td>\n",
       "      <td>8.3</td>\n",
       "      <td>0.99</td>\n",
       "    </tr>\n",
       "    <tr>\n",
       "      <th>3</th>\n",
       "      <td>circus peanuts</td>\n",
       "      <td>False</td>\n",
       "      <td>False</td>\n",
       "      <td>False</td>\n",
       "      <td>2.2</td>\n",
       "      <td>0.49</td>\n",
       "    </tr>\n",
       "    <tr>\n",
       "      <th>4</th>\n",
       "      <td>whatchamacallit</td>\n",
       "      <td>True</td>\n",
       "      <td>True</td>\n",
       "      <td>False</td>\n",
       "      <td>7.8</td>\n",
       "      <td>1.49</td>\n",
       "    </tr>\n",
       "    <tr>\n",
       "      <th>5</th>\n",
       "      <td>starburst</td>\n",
       "      <td>False</td>\n",
       "      <td>False</td>\n",
       "      <td>True</td>\n",
       "      <td>8.5</td>\n",
       "      <td>1.00</td>\n",
       "    </tr>\n",
       "    <tr>\n",
       "      <th>6</th>\n",
       "      <td>mars bar</td>\n",
       "      <td>True</td>\n",
       "      <td>False</td>\n",
       "      <td>False</td>\n",
       "      <td>7.2</td>\n",
       "      <td>1.30</td>\n",
       "    </tr>\n",
       "  </tbody>\n",
       "</table>\n",
       "</div>"
      ],
      "text/plain": [
       "             candy  has_chocolate  has_nuts  is_fruity  rating  cost\n",
       "0         snickers           True      True      False     9.5  1.50\n",
       "1         skittles          False     False       True     9.2  0.99\n",
       "2        caramello           True     False      False     8.3  0.99\n",
       "3   circus peanuts          False     False      False     2.2  0.49\n",
       "4  whatchamacallit           True      True      False     7.8  1.49\n",
       "5        starburst          False     False       True     8.5  1.00\n",
       "6         mars bar           True     False      False     7.2  1.30"
      ]
     },
     "execution_count": 37,
     "metadata": {},
     "output_type": "execute_result"
    }
   ],
   "source": [
    "candy_df = pd.DataFrame(\n",
    "    [{'candy':'snickers','has_chocolate':True, 'has_nuts':True, 'is_fruity':False, 'rating':9.5, 'cost':1.50},\n",
    "     {'candy':'skittles','has_chocolate':False, 'has_nuts':False, 'is_fruity':True, 'rating':9.2, 'cost':0.99},\n",
    "     {'candy':'caramello','has_chocolate':True, 'has_nuts':False, 'is_fruity':False, 'rating':8.3, 'cost':0.99},\n",
    "     {'candy':'circus peanuts','has_chocolate':False, 'has_nuts':False, 'is_fruity':False, 'rating':2.2, 'cost':0.49},\n",
    "     {'candy':'whatchamacallit','has_chocolate':True, 'has_nuts':True, 'is_fruity':False, 'rating':7.8, 'cost':1.49},\n",
    "     {'candy':'starburst','has_chocolate':False, 'has_nuts':False, 'is_fruity':True, 'rating':8.5, 'cost':1.00},\n",
    "     {'candy':'mars bar','has_chocolate':True, 'has_nuts':False, 'is_fruity':False, 'rating':7.2, 'cost':1.30},\n",
    "    ]\n",
    ")\n",
    "candy_df"
   ]
  },
  {
   "cell_type": "markdown",
   "metadata": {},
   "source": [
    "Suppose we wanted to find a candy that\n",
    "1. has chocolate,\n",
    "2. does not have nuts, and\n",
    "3. the rating-to-cost ratio is greater than 7\n",
    "\n",
    "we can do this with `apply()` and a lambda function that takes in the entire row as its parameter"
   ]
  },
  {
   "cell_type": "code",
   "execution_count": 41,
   "metadata": {},
   "outputs": [
    {
     "data": {
      "text/html": [
       "<div>\n",
       "<style scoped>\n",
       "    .dataframe tbody tr th:only-of-type {\n",
       "        vertical-align: middle;\n",
       "    }\n",
       "\n",
       "    .dataframe tbody tr th {\n",
       "        vertical-align: top;\n",
       "    }\n",
       "\n",
       "    .dataframe thead th {\n",
       "        text-align: right;\n",
       "    }\n",
       "</style>\n",
       "<table border=\"1\" class=\"dataframe\">\n",
       "  <thead>\n",
       "    <tr style=\"text-align: right;\">\n",
       "      <th></th>\n",
       "      <th>candy</th>\n",
       "      <th>has_chocolate</th>\n",
       "      <th>has_nuts</th>\n",
       "      <th>is_fruity</th>\n",
       "      <th>rating</th>\n",
       "      <th>cost</th>\n",
       "    </tr>\n",
       "  </thead>\n",
       "  <tbody>\n",
       "    <tr>\n",
       "      <th>2</th>\n",
       "      <td>caramello</td>\n",
       "      <td>True</td>\n",
       "      <td>False</td>\n",
       "      <td>False</td>\n",
       "      <td>8.3</td>\n",
       "      <td>0.99</td>\n",
       "    </tr>\n",
       "  </tbody>\n",
       "</table>\n",
       "</div>"
      ],
      "text/plain": [
       "       candy  has_chocolate  has_nuts  is_fruity  rating  cost\n",
       "2  caramello           True     False      False     8.3  0.99"
      ]
     },
     "execution_count": 41,
     "metadata": {},
     "output_type": "execute_result"
    }
   ],
   "source": [
    "candy_df[candy_df.apply(lambda row: row['has_chocolate'] == True and \n",
    "                        row['has_nuts'] == False and \n",
    "                        row['rating']/row['cost'] > 7, axis=1)]"
   ]
  },
  {
   "cell_type": "markdown",
   "metadata": {
    "collapsed": true
   },
   "source": [
    "We can also use lambda functions to create new columns. Suppose we want to make a personalized rating value adjustment. Let's say we really like fruity candy, so fruity candy gets a +1 to the rating, and we like chocolate, but only if the candy has nuts as well, so chocolate and nuts gives a +0.75 to the rating.\n",
    "\n",
    "Boolean values can also be numerical. If a value is `False` then that is the equivalent to 0, and if a value is `True` then that is equivalent to a value of 1."
   ]
  },
  {
   "cell_type": "code",
   "execution_count": 46,
   "metadata": {},
   "outputs": [
    {
     "data": {
      "text/html": [
       "<div>\n",
       "<style scoped>\n",
       "    .dataframe tbody tr th:only-of-type {\n",
       "        vertical-align: middle;\n",
       "    }\n",
       "\n",
       "    .dataframe tbody tr th {\n",
       "        vertical-align: top;\n",
       "    }\n",
       "\n",
       "    .dataframe thead th {\n",
       "        text-align: right;\n",
       "    }\n",
       "</style>\n",
       "<table border=\"1\" class=\"dataframe\">\n",
       "  <thead>\n",
       "    <tr style=\"text-align: right;\">\n",
       "      <th></th>\n",
       "      <th>candy</th>\n",
       "      <th>has_chocolate</th>\n",
       "      <th>has_nuts</th>\n",
       "      <th>is_fruity</th>\n",
       "      <th>rating</th>\n",
       "      <th>cost</th>\n",
       "      <th>adjusted_rating</th>\n",
       "    </tr>\n",
       "  </thead>\n",
       "  <tbody>\n",
       "    <tr>\n",
       "      <th>0</th>\n",
       "      <td>snickers</td>\n",
       "      <td>True</td>\n",
       "      <td>True</td>\n",
       "      <td>False</td>\n",
       "      <td>9.5</td>\n",
       "      <td>1.50</td>\n",
       "      <td>10.25</td>\n",
       "    </tr>\n",
       "    <tr>\n",
       "      <th>1</th>\n",
       "      <td>skittles</td>\n",
       "      <td>False</td>\n",
       "      <td>False</td>\n",
       "      <td>True</td>\n",
       "      <td>9.2</td>\n",
       "      <td>0.99</td>\n",
       "      <td>10.20</td>\n",
       "    </tr>\n",
       "    <tr>\n",
       "      <th>2</th>\n",
       "      <td>caramello</td>\n",
       "      <td>True</td>\n",
       "      <td>False</td>\n",
       "      <td>False</td>\n",
       "      <td>8.3</td>\n",
       "      <td>0.99</td>\n",
       "      <td>8.30</td>\n",
       "    </tr>\n",
       "    <tr>\n",
       "      <th>3</th>\n",
       "      <td>circus peanuts</td>\n",
       "      <td>False</td>\n",
       "      <td>False</td>\n",
       "      <td>False</td>\n",
       "      <td>2.2</td>\n",
       "      <td>0.49</td>\n",
       "      <td>2.20</td>\n",
       "    </tr>\n",
       "    <tr>\n",
       "      <th>4</th>\n",
       "      <td>whatchamacallit</td>\n",
       "      <td>True</td>\n",
       "      <td>True</td>\n",
       "      <td>False</td>\n",
       "      <td>7.8</td>\n",
       "      <td>1.49</td>\n",
       "      <td>8.55</td>\n",
       "    </tr>\n",
       "    <tr>\n",
       "      <th>5</th>\n",
       "      <td>starburst</td>\n",
       "      <td>False</td>\n",
       "      <td>False</td>\n",
       "      <td>True</td>\n",
       "      <td>8.5</td>\n",
       "      <td>1.00</td>\n",
       "      <td>9.50</td>\n",
       "    </tr>\n",
       "    <tr>\n",
       "      <th>6</th>\n",
       "      <td>mars bar</td>\n",
       "      <td>True</td>\n",
       "      <td>False</td>\n",
       "      <td>False</td>\n",
       "      <td>7.2</td>\n",
       "      <td>1.30</td>\n",
       "      <td>7.20</td>\n",
       "    </tr>\n",
       "  </tbody>\n",
       "</table>\n",
       "</div>"
      ],
      "text/plain": [
       "             candy  has_chocolate  has_nuts  is_fruity  rating  cost  \\\n",
       "0         snickers           True      True      False     9.5  1.50   \n",
       "1         skittles          False     False       True     9.2  0.99   \n",
       "2        caramello           True     False      False     8.3  0.99   \n",
       "3   circus peanuts          False     False      False     2.2  0.49   \n",
       "4  whatchamacallit           True      True      False     7.8  1.49   \n",
       "5        starburst          False     False       True     8.5  1.00   \n",
       "6         mars bar           True     False      False     7.2  1.30   \n",
       "\n",
       "   adjusted_rating  \n",
       "0            10.25  \n",
       "1            10.20  \n",
       "2             8.30  \n",
       "3             2.20  \n",
       "4             8.55  \n",
       "5             9.50  \n",
       "6             7.20  "
      ]
     },
     "execution_count": 46,
     "metadata": {},
     "output_type": "execute_result"
    }
   ],
   "source": [
    "candy_df['adjusted_rating'] = candy_df.apply(lambda row: row['rating'] + row['is_fruity'] * 1 + row['has_chocolate']*row['has_nuts']*0.75, axis=1)\n",
    "candy_df"
   ]
  },
  {
   "cell_type": "code",
   "execution_count": null,
   "metadata": {
    "collapsed": true
   },
   "outputs": [],
   "source": []
  }
 ],
 "metadata": {
  "kernelspec": {
   "display_name": "Python 3",
   "language": "python",
   "name": "python3"
  },
  "language_info": {
   "codemirror_mode": {
    "name": "ipython",
    "version": 3
   },
   "file_extension": ".py",
   "mimetype": "text/x-python",
   "name": "python",
   "nbconvert_exporter": "python",
   "pygments_lexer": "ipython3",
   "version": "3.7.7"
  }
 },
 "nbformat": 4,
 "nbformat_minor": 2
}
