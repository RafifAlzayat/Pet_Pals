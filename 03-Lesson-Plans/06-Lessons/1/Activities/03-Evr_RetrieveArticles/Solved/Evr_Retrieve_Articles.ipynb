{
 "cells": [
  {
   "cell_type": "code",
   "execution_count": 1,
   "metadata": {},
   "outputs": [],
   "source": [
    "# Dependencies\n",
    "import requests\n",
    "from config import api_key\n",
    "import time\n",
    "\n",
    "url = \"https://api.nytimes.com/svc/search/v2/articlesearch.json?\"\n",
    "\n",
    "# Store a search term\n",
    "query = \"coronavirus\"\n",
    "\n",
    "# Search for articles published between a begin and end date\n",
    "begin_date = \"20200101\"\n",
    "end_date = \"20200130\"\n",
    "\n",
    "query_url = f\"{url}api-key={api_key}&q={query}&begin_date={begin_date}&end_date={end_date}\""
   ]
  },
  {
   "cell_type": "code",
   "execution_count": 2,
   "metadata": {},
   "outputs": [
    {
     "name": "stdout",
     "output_type": "stream",
     "text": [
      "A snippet from the article: The virus has infected more than 65,638,100 people  and has been detected in nearly every country.\n",
      "---------------------------\n",
      "A snippet from the article: A respiratory virus that originated in China has infected more than 900,000 people worldwide, with at least 200,000 cases in the United States.\n",
      "---------------------------\n",
      "A snippet from the article: Distrust in science and institutions could be a major problem if the outbreak worsens.\n",
      "---------------------------\n",
      "A snippet from the article: The city's health commissioner has urged calm as cases of the dangerous new coronavirus crop up in a number of states. \n",
      "---------------------------\n",
      "A snippet from the article: It may have started with a bat in a cave, but human activity set it loose.\n",
      "---------------------------\n",
      "A snippet from the article: In Queens, some who recently returned from China have even self-quarantined. But officials have urged calm.\n",
      "---------------------------\n",
      "A snippet from the article: Public health experts explain the risks and what we still don’t know.\n",
      "---------------------------\n",
      "A snippet from the article: Investors have been worried that the mysterious epidemic in China could hurt economic growth.\n",
      "---------------------------\n",
      "A snippet from the article: Lunar New Year celebrations have taken on a muted feel.\n",
      "---------------------------\n",
      "A snippet from the article: The disease outbreak in China continues to spook investors around the world, though fears appear to be moderating slightly.\n",
      "---------------------------\n"
     ]
    }
   ],
   "source": [
    "# Retrieve articles\n",
    "articles = requests.get(query_url).json()\n",
    "articles_list = articles[\"response\"][\"docs\"]\n",
    "\n",
    "for article in articles_list:\n",
    "    print(f'A snippet from the article: {article[\"snippet\"]}')\n",
    "    print('---------------------------')"
   ]
  },
  {
   "cell_type": "code",
   "execution_count": 3,
   "metadata": {},
   "outputs": [
    {
     "name": "stdout",
     "output_type": "stream",
     "text": [
      "Your Reading List\n",
      "https://www.nytimes.com/interactive/2020/world/coronavirus-maps.html\n",
      "https://www.nytimes.com/article/what-is-coronavirus.html\n",
      "https://www.nytimes.com/2020/01/29/opinion/coronavirus-outbreak.html\n",
      "https://www.nytimes.com/2020/01/28/nyregion/coronavirus-nyc.html\n",
      "https://www.nytimes.com/2020/01/28/opinion/coronavirus-china.html\n",
      "https://www.nytimes.com/2020/01/27/nyregion/new-york-city-coronavirus.html\n",
      "https://www.nytimes.com/2020/01/28/opinion/coronavirus-risk.html\n",
      "https://www.nytimes.com/2020/01/28/business/coronavirus-financial-markets.html\n",
      "https://www.nytimes.com/2020/01/30/nyregion/coronavirus-chinatown-museum-fire.html\n",
      "https://www.nytimes.com/2020/01/28/business/dealbook/coronavirus-economy-stocks.html\n"
     ]
    }
   ],
   "source": [
    "# Print the web_url of each stored article\n",
    "print(\"Your Reading List\")\n",
    "for article in articles_list:\n",
    "    print(article[\"web_url\"])"
   ]
  },
  {
   "cell_type": "code",
   "execution_count": 4,
   "metadata": {},
   "outputs": [],
   "source": [
    "# BONUS: How would we get 30 results? \n",
    "# HINT: Look up the page query param\n",
    "\n",
    "# Empty list for articles\n",
    "articles_list = []\n",
    "\n",
    "# loop through pages 0-2\n",
    "for page in range(0, 3):\n",
    "    query_url = f\"{url}api-key={api_key}&q={query}&begin_date={begin_date}&end_date={end_date}\"\n",
    "    # create query with page number\n",
    "    query_url = f\"{query_url}&page={str(page)}\"\n",
    "    articles = requests.get(query_url).json()\n",
    "    \n",
    "    # Add a one second interval between queries to stay within API query limits\n",
    "    time.sleep(1)\n",
    "    # loop through the response and append each article to the list\n",
    "    for article in articles[\"response\"][\"docs\"]:\n",
    "        articles_list.append(article)"
   ]
  },
  {
   "cell_type": "code",
   "execution_count": 5,
   "metadata": {},
   "outputs": [
    {
     "name": "stdout",
     "output_type": "stream",
     "text": [
      "The virus has infected more than 65,638,100 people  and has been detected in nearly every country.\n",
      "---------------------------\n",
      "A respiratory virus that originated in China has infected more than 900,000 people worldwide, with at least 200,000 cases in the United States.\n",
      "---------------------------\n",
      "Distrust in science and institutions could be a major problem if the outbreak worsens.\n",
      "---------------------------\n",
      "The city's health commissioner has urged calm as cases of the dangerous new coronavirus crop up in a number of states. \n",
      "---------------------------\n",
      "It may have started with a bat in a cave, but human activity set it loose.\n",
      "---------------------------\n",
      "In Queens, some who recently returned from China have even self-quarantined. But officials have urged calm.\n",
      "---------------------------\n",
      "Public health experts explain the risks and what we still don’t know.\n",
      "---------------------------\n",
      "Investors have been worried that the mysterious epidemic in China could hurt economic growth.\n",
      "---------------------------\n",
      "Lunar New Year celebrations have taken on a muted feel.\n",
      "---------------------------\n",
      "The disease outbreak in China continues to spook investors around the world, though fears appear to be moderating slightly.\n",
      "---------------------------\n",
      "Airlines are suspending direct flights to mainland China, and U.S. health officials are warning travelers to avoid all nonessential trips to the country, the center of the outbreak.\n",
      "---------------------------\n",
      "Test your knowledge of this week’s health news.\n",
      "---------------------------\n",
      "We must determine whether the outbreak will turn into a global epidemic.\n",
      "---------------------------\n",
      "Here are the latest images as the country confronts a major public health crisis.\n",
      "---------------------------\n",
      "There was a getting-out-of-Dodge feeling as we boarded the airplane, although airplanes — with their recycled air — are very effective settings for the spread of respiratory infections.\n",
      "---------------------------\n",
      "Corporations are bracing for the repercussions of the outbreak, with major retailers closing stores and airlines cutting flights to and from the country.\n",
      "---------------------------\n",
      "The outbreak of a dangerous respiratory virus in China is putting a strain on hospital staff and medical resources.\n",
      "---------------------------\n",
      "Chinese officials have confirmed over 7,700 cases of the mysterious illness as foreign governments airlifted their citizens out of Wuhan, the outbreak’s epicenter.\n",
      "---------------------------\n",
      "The number of cases outside China is small, and the disease does not seem to be spreading within other countries.\n",
      "---------------------------\n",
      "The Chinese government is going all-out because it knows the people don’t entirely trust it.\n",
      "---------------------------\n",
      "As China closes off cities affected by the growing viral outbreak, business leaders at the World Economic Forum fear a replay of the SARS epidemic.\n",
      "---------------------------\n",
      "The virus has sickened tens of thousands of people in China and a number of other countries.\n",
      "---------------------------\n",
      "The number of known cases of the new virus rose by nearly a third overnight. A shortage of test kits has led experts to warn that the real number may be higher.\n",
      "---------------------------\n",
      "At least 25 people have died and more than 800 have been sickened by the mysterious illness, health officials said. The travel restrictions imposed on Wuhan were extended to at least four more cities.\n",
      "---------------------------\n",
      "The commerce secretary said the virus, while “very unfortunate,” could prompt companies to reconsider operating inside China.\n",
      "---------------------------\n",
      "Chinese citizens are overcoming a lack of reporting on the crisis in the state-run media by sharing their own videos and information about the coronavirus outbreak.\n",
      "---------------------------\n",
      "They may help, but experts say it’s more important to wash your hands.\n",
      "---------------------------\n",
      "The number of dead climbed to at least 80, while in the United States, five cases were confirmed.\n",
      "---------------------------\n",
      "Health leaders in Washington State have been working to monitor at least 16 people who may have been in close contact with the man who flew in from China.\n",
      "---------------------------\n",
      "I covered the SARS outbreak as a reporter in China, and I saw that common sense is the best defense against viral illness.\n",
      "---------------------------\n"
     ]
    }
   ],
   "source": [
    "for article in articles_list:\n",
    "    print(article['snippet'])\n",
    "    print('---------------------------')"
   ]
  },
  {
   "cell_type": "code",
   "execution_count": null,
   "metadata": {},
   "outputs": [],
   "source": []
  }
 ],
 "metadata": {
  "kernelspec": {
   "display_name": "Python 3",
   "language": "python",
   "name": "python3"
  },
  "language_info": {
   "codemirror_mode": {
    "name": "ipython",
    "version": 3
   },
   "file_extension": ".py",
   "mimetype": "text/x-python",
   "name": "python",
   "nbconvert_exporter": "python",
   "pygments_lexer": "ipython3",
   "version": "3.7.7"
  },
  "varInspector": {
   "cols": {
    "lenName": 16,
    "lenType": 16,
    "lenVar": 40
   },
   "kernels_config": {
    "python": {
     "delete_cmd_postfix": "",
     "delete_cmd_prefix": "del ",
     "library": "var_list.py",
     "varRefreshCmd": "print(var_dic_list())"
    },
    "r": {
     "delete_cmd_postfix": ") ",
     "delete_cmd_prefix": "rm(",
     "library": "var_list.r",
     "varRefreshCmd": "cat(var_dic_list()) "
    }
   },
   "types_to_exclude": [
    "module",
    "function",
    "builtin_function_or_method",
    "instance",
    "_Feature"
   ],
   "window_display": false
  }
 },
 "nbformat": 4,
 "nbformat_minor": 2
}
