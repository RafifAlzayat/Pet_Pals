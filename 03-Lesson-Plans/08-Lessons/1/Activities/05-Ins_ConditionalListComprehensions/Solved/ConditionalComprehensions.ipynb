{
 "cells": [
  {
   "cell_type": "markdown",
   "metadata": {},
   "source": [
    "Remember, list comprehensions when we first learned them followed the form\n",
    "\n",
    "`[expression for element in source_list]`\n",
    "\n",
    "But there's an optional section we can add at the end to filter based on a conditional expression\n",
    "\n",
    "`[expression for element in source_list if filter_expression]`\n",
    "\n",
    "For example, if we have a list of dogs with their name, age, and weight, and we want to see only the large dogs, we could write\n",
    "\n",
    "`[dog for dog in dogs if dog['weight'] > 30]`\n",
    "\n",
    "Here, \n",
    "* the first `dog` is the _expression_\n",
    "* the second `dog` is the _element_\n",
    "* `dogs` is the <i>source_list</i>\n",
    "* `dog['weight'] > 30` is the <i>filter_expression</i>\n",
    "\n",
    "Note that we can use the _element_ in our filter expression"
   ]
  },
  {
   "cell_type": "code",
   "execution_count": 12,
   "metadata": {},
   "outputs": [
    {
     "data": {
      "text/plain": [
       "[0,\n",
       " 2,\n",
       " 4,\n",
       " 6,\n",
       " 8,\n",
       " 10,\n",
       " 12,\n",
       " 14,\n",
       " 16,\n",
       " 18,\n",
       " 20,\n",
       " 22,\n",
       " 24,\n",
       " 26,\n",
       " 28,\n",
       " 30,\n",
       " 32,\n",
       " 34,\n",
       " 36,\n",
       " 38,\n",
       " 40,\n",
       " 42,\n",
       " 44,\n",
       " 46,\n",
       " 48,\n",
       " 50,\n",
       " 52,\n",
       " 54,\n",
       " 56,\n",
       " 58,\n",
       " 60,\n",
       " 62,\n",
       " 64,\n",
       " 66,\n",
       " 68,\n",
       " 70,\n",
       " 72,\n",
       " 74,\n",
       " 76,\n",
       " 78,\n",
       " 80,\n",
       " 82,\n",
       " 84,\n",
       " 86,\n",
       " 88,\n",
       " 90,\n",
       " 92,\n",
       " 94,\n",
       " 96,\n",
       " 98]"
      ]
     },
     "execution_count": 12,
     "metadata": {},
     "output_type": "execute_result"
    }
   ],
   "source": [
    "# One way to create a list of even numbers is with a conditional list comprehension\n",
    "# the expression is just 'x'\n",
    "# the element is also 'x'\n",
    "# the source_list will be 'range(100)'\n",
    "# the filter_expression is 'x % 2 == 0'\n",
    "\n",
    "even_numbers = [x for x in range(100) if x % 2 == 0]\n",
    "even_numbers"
   ]
  },
  {
   "cell_type": "code",
   "execution_count": 8,
   "metadata": {},
   "outputs": [
    {
     "data": {
      "text/plain": [
       "['Even',\n",
       " 'Odd',\n",
       " 'Even',\n",
       " 'Odd',\n",
       " 'Even',\n",
       " 'Odd',\n",
       " 'Even',\n",
       " 'Odd',\n",
       " 'Even',\n",
       " 'Odd',\n",
       " 'Even',\n",
       " 'Odd',\n",
       " 'Even',\n",
       " 'Odd',\n",
       " 'Even',\n",
       " 'Odd',\n",
       " 'Even',\n",
       " 'Odd',\n",
       " 'Even',\n",
       " 'Odd']"
      ]
     },
     "execution_count": 8,
     "metadata": {},
     "output_type": "execute_result"
    }
   ],
   "source": [
    "# We can also use a condition for our expression with an inline if\n",
    "['Even' if x %2 == 0 else 'Odd' for x in range(20)]"
   ]
  },
  {
   "cell_type": "code",
   "execution_count": 20,
   "metadata": {},
   "outputs": [
    {
     "data": {
      "text/plain": [
       "[{'cost': 0.99,\n",
       "  'has_chocolate': False,\n",
       "  'has_nuts': False,\n",
       "  'is_fruity': True,\n",
       "  'name': 'skittles',\n",
       "  'rating': 9.2},\n",
       " {'cost': 0.99,\n",
       "  'has_chocolate': True,\n",
       "  'has_nuts': False,\n",
       "  'is_fruity': False,\n",
       "  'name': 'caramello',\n",
       "  'rating': 8.3},\n",
       " {'cost': 0.49,\n",
       "  'has_chocolate': False,\n",
       "  'has_nuts': False,\n",
       "  'is_fruity': False,\n",
       "  'name': 'circus peanuts',\n",
       "  'rating': 2.2},\n",
       " {'cost': 1.0,\n",
       "  'has_chocolate': False,\n",
       "  'has_nuts': False,\n",
       "  'is_fruity': True,\n",
       "  'name': 'starburst',\n",
       "  'rating': 8.5},\n",
       " {'cost': 1.3,\n",
       "  'has_chocolate': True,\n",
       "  'has_nuts': False,\n",
       "  'is_fruity': False,\n",
       "  'name': 'mars bar',\n",
       "  'rating': 7.2}]"
      ]
     },
     "execution_count": 20,
     "metadata": {},
     "output_type": "execute_result"
    }
   ],
   "source": [
    "# Given a list of dictionaries, we can filter them with a list comprehension\n",
    "candies = [{'name':'snickers','has_chocolate':True, 'has_nuts':True, 'is_fruity':False, 'rating':9.5, 'cost':1.50},\n",
    "           {'name':'skittles','has_chocolate':False, 'has_nuts':False, 'is_fruity':True, 'rating':9.2, 'cost':0.99},\n",
    "           {'name':'caramello','has_chocolate':True, 'has_nuts':False, 'is_fruity':False, 'rating':8.3, 'cost':0.99},\n",
    "           {'name':'circus peanuts','has_chocolate':False, 'has_nuts':False, 'is_fruity':False, 'rating':2.2, 'cost':0.49},\n",
    "           {'name':'whatchamacallit','has_chocolate':True, 'has_nuts':True, 'is_fruity':False, 'rating':7.8, 'cost':1.49},\n",
    "           {'name':'starburst','has_chocolate':False, 'has_nuts':False, 'is_fruity':True, 'rating':8.5, 'cost':1.00},\n",
    "           {'name':'mars bar','has_chocolate':True, 'has_nuts':False, 'is_fruity':False, 'rating':7.2, 'cost':1.30},\n",
    "          ]\n",
    "\n",
    "[candy for candy in candies if candy['has_nuts'] == False]"
   ]
  },
  {
   "cell_type": "code",
   "execution_count": 21,
   "metadata": {},
   "outputs": [
    {
     "data": {
      "text/plain": [
       "['skittles', 'caramello', 'circus peanuts', 'starburst', 'mars bar']"
      ]
     },
     "execution_count": 21,
     "metadata": {},
     "output_type": "execute_result"
    }
   ],
   "source": [
    "# To make it easier to read, we can just select the name of the candies\n",
    "[candy['name'] for candy in candies if candy['has_nuts'] == False]"
   ]
  },
  {
   "cell_type": "code",
   "execution_count": null,
   "metadata": {
    "collapsed": true
   },
   "outputs": [],
   "source": []
  }
 ],
 "metadata": {
  "kernelspec": {
   "display_name": "Python 3",
   "language": "python",
   "name": "python3"
  },
  "language_info": {
   "codemirror_mode": {
    "name": "ipython",
    "version": 3
   },
   "file_extension": ".py",
   "mimetype": "text/x-python",
   "name": "python",
   "nbconvert_exporter": "python",
   "pygments_lexer": "ipython3",
   "version": "3.7.7"
  }
 },
 "nbformat": 4,
 "nbformat_minor": 2
}
