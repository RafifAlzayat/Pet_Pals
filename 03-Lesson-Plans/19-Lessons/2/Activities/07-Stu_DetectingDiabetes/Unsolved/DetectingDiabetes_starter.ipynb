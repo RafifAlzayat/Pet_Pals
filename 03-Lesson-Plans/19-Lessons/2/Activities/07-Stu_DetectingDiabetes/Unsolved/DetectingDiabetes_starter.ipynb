{
 "cells": [
  {
   "cell_type": "code",
   "execution_count": null,
   "metadata": {
    "colab": {
     "base_uri": "https://localhost:8080/",
     "height": 204
    },
    "id": "8LOf4mvV2nlf",
    "outputId": "d6b51881-042b-4315-ea98-f922d5e01f96"
   },
   "outputs": [],
   "source": [
    "# Import our dependencies\n",
    "from sklearn.model_selection import train_test_split\n",
    "from sklearn.preprocessing import StandardScaler\n",
    "from sklearn.metrics import accuracy_score\n",
    "import pandas as pd\n",
    "import tensorflow as tf\n",
    "\n",
    "# Import our input dataset\n",
    "diabetes_df = pd.read_csv('https://2u-data-curriculum-team.s3.amazonaws.com/dataviz-classroom/v1.1/21-Deep-Learning/diabetes.csv')\n",
    "diabetes_df.head()"
   ]
  },
  {
   "cell_type": "code",
   "execution_count": null,
   "metadata": {
    "id": "6mnUA9Jz2nlp"
   },
   "outputs": [],
   "source": [
    "# Remove diabetes outcome target from features data\n",
    "\n",
    "# Split training/test datasets\n"
   ]
  },
  {
   "cell_type": "code",
   "execution_count": null,
   "metadata": {
    "id": "reOMnWTW2nlq"
   },
   "outputs": [],
   "source": [
    "# Preprocess numerical data for neural network\n",
    "\n",
    "# Create a StandardScaler instances\n",
    "\n",
    "# Fit the StandardScaler\n",
    "\n",
    "# Scale the data\n"
   ]
  },
  {
   "cell_type": "code",
   "execution_count": null,
   "metadata": {
    "colab": {
     "base_uri": "https://localhost:8080/"
    },
    "id": "gJP8qIlU2nlq",
    "outputId": "96c0759d-3ac4-4cb1-c3b2-bd2f50ac50f0"
   },
   "outputs": [],
   "source": [
    "# Define the deep learning model \n",
    "\n",
    "# Compile the Sequential model together and customize metrics\n",
    "\n",
    "# Train the model\n",
    "\n",
    "# Evaluate the model using the test data\n"
   ]
  },
  {
   "cell_type": "code",
   "execution_count": null,
   "metadata": {
    "id": "mUleMxww2nlr"
   },
   "outputs": [],
   "source": []
  }
 ],
 "metadata": {
  "colab": {
   "name": "DetectingDiabetes.ipynb",
   "provenance": []
  },
  "kernelspec": {
   "display_name": "Python 3",
   "language": "python",
   "name": "python3"
  },
  "language_info": {
   "codemirror_mode": {
    "name": "ipython",
    "version": 3
   },
   "file_extension": ".py",
   "mimetype": "text/x-python",
   "name": "python",
   "nbconvert_exporter": "python",
   "pygments_lexer": "ipython3",
   "version": "3.7.7"
  }
 },
 "nbformat": 4,
 "nbformat_minor": 1
}
